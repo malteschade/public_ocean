{
 "cells": [
  {
   "cell_type": "code",
   "execution_count": 73,
   "metadata": {},
   "outputs": [],
   "source": [
    "import json\n",
    "\n",
    "import numpy as np\n",
    "\n",
    "from dimod import ConstrainedQuadraticModel, QuadraticModel, Integer\n",
    "from dwave.system import LeapHybridCQMSampler\n",
    "\n",
    "from dimod import ExactCQMSolver"
   ]
  },
  {
   "cell_type": "code",
   "execution_count": 74,
   "metadata": {},
   "outputs": [],
   "source": [
    "with open('tokens.json') as json_file:\n",
    "    token = json.load(json_file)['dwave_token']"
   ]
  },
  {
   "cell_type": "code",
   "execution_count": 108,
   "metadata": {},
   "outputs": [],
   "source": [
    "i = Integer('test_val_1', lower_bound=-20, upper_bound = 20)\n",
    "j = Integer('test_val_2', lower_bound=-20, upper_bound = 20)"
   ]
  },
  {
   "cell_type": "code",
   "execution_count": 133,
   "metadata": {},
   "outputs": [
    {
     "data": {
      "text/plain": [
       "{'test_val_1': 'd095cbea-8dcf-437c-8efa-81ec3c90059f'}"
      ]
     },
     "execution_count": 133,
     "metadata": {},
     "output_type": "execute_result"
    }
   ],
   "source": [
    "cqm = ConstrainedQuadraticModel()\n",
    "cqm.set_objective(i**2+17*i)\n",
    "cqm.substitute_self_loops()"
   ]
  },
  {
   "cell_type": "code",
   "execution_count": 134,
   "metadata": {},
   "outputs": [],
   "source": [
    "#sampler = LeapHybridCQMSampler(token=token)\n",
    "sampler = ExactCQMSolver()\n",
    "\n",
    "sampleset = sampler.sample_cqm(cqm).filter(lambda row: row.is_feasible)"
   ]
  },
  {
   "cell_type": "code",
   "execution_count": 135,
   "metadata": {},
   "outputs": [
    {
     "data": {
      "text/plain": [
       "Sample(sample={'d095cbea-8dcf-437c-8efa-81ec3c90059f': -9, 'test_val_1': -9}, energy=-72.0, num_occurrences=1, is_feasible=True, is_satisfied=array([ True]))"
      ]
     },
     "execution_count": 135,
     "metadata": {},
     "output_type": "execute_result"
    }
   ],
   "source": [
    "sampleset.first"
   ]
  },
  {
   "cell_type": "code",
   "execution_count": null,
   "metadata": {},
   "outputs": [],
   "source": []
  },
  {
   "cell_type": "code",
   "execution_count": null,
   "metadata": {},
   "outputs": [],
   "source": []
  }
 ],
 "metadata": {
  "interpreter": {
   "hash": "82170c238004e6f9a5ed2379e71263892c415154f0d0e9cbe0a86bb72a7cd347"
  },
  "kernelspec": {
   "display_name": "Python 3.8.12 ('quantum_001')",
   "language": "python",
   "name": "python3"
  },
  "language_info": {
   "codemirror_mode": {
    "name": "ipython",
    "version": 3
   },
   "file_extension": ".py",
   "mimetype": "text/x-python",
   "name": "python",
   "nbconvert_exporter": "python",
   "pygments_lexer": "ipython3",
   "version": "3.8.12"
  },
  "orig_nbformat": 4
 },
 "nbformat": 4,
 "nbformat_minor": 2
}
