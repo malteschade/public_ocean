{
 "cells": [
  {
   "cell_type": "code",
   "execution_count": 84,
   "metadata": {},
   "outputs": [],
   "source": [
    "import json\n",
    "\n",
    "import numpy as np\n",
    "import pandas as pd\n",
    "\n",
    "from dimod import ExactCQMSolver, ConstrainedQuadraticModel, QuadraticModel, Integer\n",
    "from dwave.system import LeapHybridCQMSampler\n"
   ]
  },
  {
   "cell_type": "code",
   "execution_count": 71,
   "metadata": {},
   "outputs": [],
   "source": [
    "with open('tokens.json') as json_file:\n",
    "    token = json.load(json_file)['dwave_token']"
   ]
  },
  {
   "cell_type": "code",
   "execution_count": 72,
   "metadata": {},
   "outputs": [],
   "source": [
    "i = Integer('test_val_1', lower_bound=-20, upper_bound = 20)\n",
    "j = Integer('test_val_2', lower_bound=-20, upper_bound = 20)"
   ]
  },
  {
   "cell_type": "code",
   "execution_count": 73,
   "metadata": {},
   "outputs": [
    {
     "data": {
      "text/plain": [
       "{'test_val_1': 'a1a95c90-8fbf-43f8-8b61-554ee5414166'}"
      ]
     },
     "execution_count": 73,
     "metadata": {},
     "output_type": "execute_result"
    }
   ],
   "source": [
    "cqm = ConstrainedQuadraticModel()\n",
    "cqm.set_objective(i)\n",
    "cqm.add_constraint(i**2+12*i == 64)\n",
    "cqm.substitute_self_loops()"
   ]
  },
  {
   "cell_type": "code",
   "execution_count": 74,
   "metadata": {},
   "outputs": [],
   "source": [
    "sampler = LeapHybridCQMSampler(token=token)\n",
    "#sampler = ExactCQMSolver()\n",
    "\n",
    "sampleset = sampler.sample_cqm(cqm).filter(lambda row: row.is_feasible)"
   ]
  },
  {
   "cell_type": "code",
   "execution_count": 99,
   "metadata": {},
   "outputs": [
    {
     "data": {
      "text/plain": [
       "{'constraint_labels': ['a1a95c90-8fbf-43f8-8b61-554ee5414166', 'b38ebb'],\n",
       " 'qpu_access_time': 8613,\n",
       " 'charge_time': 3906654,\n",
       " 'run_time': 3906654,\n",
       " 'problem_id': '0d619e08-e51d-4905-b79c-3631fbb316e6'}"
      ]
     },
     "execution_count": 99,
     "metadata": {},
     "output_type": "execute_result"
    }
   ],
   "source": [
    "sampleset.info"
   ]
  },
  {
   "cell_type": "code",
   "execution_count": 100,
   "metadata": {},
   "outputs": [
    {
     "data": {
      "text/plain": [
       "Sample(sample={'a1a95c90-8fbf-43f8-8b61-554ee5414166': -16.0, 'test_val_1': -16.0}, energy=-16.0, num_occurrences=1, is_feasible=True, is_satisfied=array([ True,  True]))"
      ]
     },
     "execution_count": 100,
     "metadata": {},
     "output_type": "execute_result"
    }
   ],
   "source": [
    "sampleset.first"
   ]
  },
  {
   "cell_type": "code",
   "execution_count": null,
   "metadata": {},
   "outputs": [],
   "source": []
  }
 ],
 "metadata": {
  "interpreter": {
   "hash": "82170c238004e6f9a5ed2379e71263892c415154f0d0e9cbe0a86bb72a7cd347"
  },
  "kernelspec": {
   "display_name": "Python 3.8.12 ('quantum_001')",
   "language": "python",
   "name": "python3"
  },
  "language_info": {
   "codemirror_mode": {
    "name": "ipython",
    "version": 3
   },
   "file_extension": ".py",
   "mimetype": "text/x-python",
   "name": "python",
   "nbconvert_exporter": "python",
   "pygments_lexer": "ipython3",
   "version": "3.8.12"
  },
  "orig_nbformat": 4
 },
 "nbformat": 4,
 "nbformat_minor": 2
}
