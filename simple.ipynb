{
 "cells": [
  {
   "cell_type": "code",
   "execution_count": 63,
   "metadata": {},
   "outputs": [],
   "source": [
    "import json\n",
    "\n",
    "import numpy as np\n",
    "\n",
    "from dimod import ConstrainedQuadraticModel, QuadraticModel, Integer\n",
    "from dwave.system import LeapHybridCQMSampler\n",
    "\n",
    "from dimod import ExactCQMSolver"
   ]
  },
  {
   "cell_type": "code",
   "execution_count": 64,
   "metadata": {},
   "outputs": [],
   "source": [
    "with open('tokens.json') as json_file:\n",
    "    token = json.load(json_file)['dwave_token']"
   ]
  },
  {
   "cell_type": "code",
   "execution_count": 65,
   "metadata": {},
   "outputs": [],
   "source": [
    "i = Integer('test_val_1', lower_bound=-20, upper_bound = 20)\n",
    "j = Integer('test_val_2', lower_bound=-20, upper_bound = 20)"
   ]
  },
  {
   "cell_type": "code",
   "execution_count": 66,
   "metadata": {},
   "outputs": [
    {
     "data": {
      "text/plain": [
       "{'test_val_1': '2ec2cc2f-f9dd-47de-87b8-14d47c948830'}"
      ]
     },
     "execution_count": 66,
     "metadata": {},
     "output_type": "execute_result"
    }
   ],
   "source": [
    "cqm = ConstrainedQuadraticModel()\n",
    "cqm.set_objective(i)\n",
    "cqm.add_constraint(i**2+12*i == 64)\n",
    "cqm.substitute_self_loops()"
   ]
  },
  {
   "cell_type": "code",
   "execution_count": 67,
   "metadata": {},
   "outputs": [],
   "source": [
    "#sampler = LeapHybridCQMSampler(token=token)\n",
    "sampler = ExactCQMSolver()\n",
    "\n",
    "sampleset = sampler.sample_cqm(cqm).filter(lambda row: row.is_feasible)"
   ]
  },
  {
   "cell_type": "code",
   "execution_count": 68,
   "metadata": {},
   "outputs": [
    {
     "data": {
      "text/plain": [
       "SampleSet(rec.array([([-16, -16], -16., 1,  True, [ True,  True]),\n",
       "           ([  4,   4],   4., 1,  True, [ True,  True])],\n",
       "          dtype=[('sample', '<i8', (2,)), ('energy', '<f8'), ('num_occurrences', '<i8'), ('is_feasible', '?'), ('is_satisfied', '?', (2,))]), Variables(['2ec2cc2f-f9dd-47de-87b8-14d47c948830', 'test_val_1']), {}, 'INTEGER')"
      ]
     },
     "execution_count": 68,
     "metadata": {},
     "output_type": "execute_result"
    }
   ],
   "source": [
    "sampleset"
   ]
  },
  {
   "cell_type": "code",
   "execution_count": 69,
   "metadata": {},
   "outputs": [
    {
     "data": {
      "text/plain": [
       "Sample(sample={'2ec2cc2f-f9dd-47de-87b8-14d47c948830': -16, 'test_val_1': -16}, energy=-16.0, num_occurrences=1, is_feasible=True, is_satisfied=array([ True,  True]))"
      ]
     },
     "execution_count": 69,
     "metadata": {},
     "output_type": "execute_result"
    }
   ],
   "source": [
    "sampleset.first"
   ]
  },
  {
   "cell_type": "code",
   "execution_count": null,
   "metadata": {},
   "outputs": [],
   "source": []
  }
 ],
 "metadata": {
  "interpreter": {
   "hash": "82170c238004e6f9a5ed2379e71263892c415154f0d0e9cbe0a86bb72a7cd347"
  },
  "kernelspec": {
   "display_name": "Python 3.8.12 ('quantum_001')",
   "language": "python",
   "name": "python3"
  },
  "language_info": {
   "codemirror_mode": {
    "name": "ipython",
    "version": 3
   },
   "file_extension": ".py",
   "mimetype": "text/x-python",
   "name": "python",
   "nbconvert_exporter": "python",
   "pygments_lexer": "ipython3",
   "version": "3.8.12"
  },
  "orig_nbformat": 4
 },
 "nbformat": 4,
 "nbformat_minor": 2
}
