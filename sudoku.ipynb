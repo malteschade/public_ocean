{
 "cells": [
  {
   "cell_type": "code",
   "execution_count": 97,
   "metadata": {},
   "outputs": [],
   "source": [
    "import json\n",
    "import requests as re\n",
    "from datetime import datetime\n",
    "\n",
    "import numpy as np\n",
    "import pandas as pd\n",
    "\n",
    "from dimod import ExactCQMSolver, ConstrainedQuadraticModel, QuadraticModel, Integer\n",
    "from dwave.system import LeapHybridCQMSampler"
   ]
  },
  {
   "cell_type": "code",
   "execution_count": 90,
   "metadata": {},
   "outputs": [],
   "source": [
    "difficulty = 'easy'\n",
    "solver = 'LHCQM' #'ECQM'\n",
    "time = None\n",
    "\n",
    "with open('tokens.json') as json_file:\n",
    "    token = json.load(json_file)['dwave_token']\n"
   ]
  },
  {
   "cell_type": "code",
   "execution_count": 107,
   "metadata": {},
   "outputs": [],
   "source": [
    "\n",
    "\n",
    "\n"
   ]
  },
  {
   "cell_type": "code",
   "execution_count": 91,
   "metadata": {},
   "outputs": [
    {
     "ename": "TypeError",
     "evalue": "solve_sudoku() missing 3 required positional arguments: 'board', 'solver', and 'token'",
     "output_type": "error",
     "traceback": [
      "\u001b[0;31m---------------------------------------------------------------------------\u001b[0m",
      "\u001b[0;31mTypeError\u001b[0m                                 Traceback (most recent call last)",
      "\u001b[0;32m/var/folders/m1/z3xhsl653psf643cd1n9r6tw0000gn/T/ipykernel_44026/3251682208.py\u001b[0m in \u001b[0;36m<module>\u001b[0;34m\u001b[0m\n\u001b[1;32m      2\u001b[0m     \u001b[0mresponse\u001b[0m \u001b[0;34m=\u001b[0m \u001b[0ms\u001b[0m\u001b[0;34m.\u001b[0m\u001b[0mget\u001b[0m\u001b[0;34m(\u001b[0m\u001b[0;34m'https://sugoku.herokuapp.com/board'\u001b[0m\u001b[0;34m,\u001b[0m \u001b[0mparams\u001b[0m\u001b[0;34m=\u001b[0m\u001b[0;34m{\u001b[0m\u001b[0;34m'difficulty'\u001b[0m\u001b[0;34m:\u001b[0m\u001b[0mdifficulty\u001b[0m\u001b[0;34m}\u001b[0m\u001b[0;34m)\u001b[0m\u001b[0;34m\u001b[0m\u001b[0;34m\u001b[0m\u001b[0m\n\u001b[1;32m      3\u001b[0m \u001b[0;34m\u001b[0m\u001b[0m\n\u001b[0;32m----> 4\u001b[0;31m     \u001b[0msolution\u001b[0m \u001b[0;34m=\u001b[0m \u001b[0msolve_sudoku\u001b[0m\u001b[0;34m(\u001b[0m\u001b[0;34m)\u001b[0m\u001b[0;34m\u001b[0m\u001b[0;34m\u001b[0m\u001b[0m\n\u001b[0m\u001b[1;32m      5\u001b[0m \u001b[0;34m\u001b[0m\u001b[0m\n\u001b[1;32m      6\u001b[0m     \u001b[0mvalidate\u001b[0m \u001b[0;34m=\u001b[0m \u001b[0ms\u001b[0m\u001b[0;34m.\u001b[0m\u001b[0mpost\u001b[0m\u001b[0;34m(\u001b[0m\u001b[0;34m'https://sugoku.herokuapp.com/validate'\u001b[0m\u001b[0;34m,\u001b[0m \u001b[0mresponse\u001b[0m\u001b[0;34m.\u001b[0m\u001b[0mjson\u001b[0m\u001b[0;34m(\u001b[0m\u001b[0;34m)\u001b[0m\u001b[0;34m)\u001b[0m\u001b[0;34m\u001b[0m\u001b[0;34m\u001b[0m\u001b[0m\n",
      "\u001b[0;31mTypeError\u001b[0m: solve_sudoku() missing 3 required positional arguments: 'board', 'solver', and 'token'"
     ]
    }
   ],
   "source": [
    "with re.Session() as s:\n",
    "    response = s.get('https://sugoku.herokuapp.com/board', params={'difficulty':difficulty})\n",
    "\n",
    "    solution = solve_sudoku()\n",
    "\n",
    "    validate = s.post('https://sugoku.herokuapp.com/validate', response.json())\n"
   ]
  },
  {
   "cell_type": "code",
   "execution_count": 92,
   "metadata": {},
   "outputs": [
    {
     "data": {
      "text/plain": [
       "{'status': 'unsolved'}"
      ]
     },
     "execution_count": 92,
     "metadata": {},
     "output_type": "execute_result"
    }
   ],
   "source": [
    "validate.json()"
   ]
  },
  {
   "cell_type": "code",
   "execution_count": null,
   "metadata": {},
   "outputs": [],
   "source": [
    "now = str(datetime.now()).replace(' ','_')"
   ]
  },
  {
   "cell_type": "code",
   "execution_count": 129,
   "metadata": {},
   "outputs": [],
   "source": [
    "def solve_sudoku(board, solver, token, time):\n",
    "    s = len(board)\n",
    "    cqm = ConstrainedQuadraticModel()\n",
    "\n",
    "    fields = [[Integer(f'field_{i}_{j}', lower_bound=1, upper_bound=s) for j in range(s)] for i in range(s)]\n",
    "    \n",
    "    for i in range(s):\n",
    "        for j in range(s):\n",
    "            if board[i][j] != 0:\n",
    "                cqm.add_constraint(fields[i][j] == board[i][j])\n",
    "    #cqm.set_objective(sum(fields) == 405)\n",
    "    \n",
    "    return fields"
   ]
  },
  {
   "cell_type": "code",
   "execution_count": 130,
   "metadata": {},
   "outputs": [
    {
     "data": {
      "text/plain": [
       "[[QuadraticModel({'field_0_0': 1.0}, {}, 0.0, {'field_0_0': 'INTEGER'}, dtype='float64'),\n",
       "  QuadraticModel({'field_0_1': 1.0}, {}, 0.0, {'field_0_1': 'INTEGER'}, dtype='float64'),\n",
       "  QuadraticModel({'field_0_2': 1.0}, {}, 0.0, {'field_0_2': 'INTEGER'}, dtype='float64'),\n",
       "  QuadraticModel({'field_0_3': 1.0}, {}, 0.0, {'field_0_3': 'INTEGER'}, dtype='float64'),\n",
       "  QuadraticModel({'field_0_4': 1.0}, {}, 0.0, {'field_0_4': 'INTEGER'}, dtype='float64'),\n",
       "  QuadraticModel({'field_0_5': 1.0}, {}, 0.0, {'field_0_5': 'INTEGER'}, dtype='float64'),\n",
       "  QuadraticModel({'field_0_6': 1.0}, {}, 0.0, {'field_0_6': 'INTEGER'}, dtype='float64'),\n",
       "  QuadraticModel({'field_0_7': 1.0}, {}, 0.0, {'field_0_7': 'INTEGER'}, dtype='float64'),\n",
       "  QuadraticModel({'field_0_8': 1.0}, {}, 0.0, {'field_0_8': 'INTEGER'}, dtype='float64')],\n",
       " [QuadraticModel({'field_1_0': 1.0}, {}, 0.0, {'field_1_0': 'INTEGER'}, dtype='float64'),\n",
       "  QuadraticModel({'field_1_1': 1.0}, {}, 0.0, {'field_1_1': 'INTEGER'}, dtype='float64'),\n",
       "  QuadraticModel({'field_1_2': 1.0}, {}, 0.0, {'field_1_2': 'INTEGER'}, dtype='float64'),\n",
       "  QuadraticModel({'field_1_3': 1.0}, {}, 0.0, {'field_1_3': 'INTEGER'}, dtype='float64'),\n",
       "  QuadraticModel({'field_1_4': 1.0}, {}, 0.0, {'field_1_4': 'INTEGER'}, dtype='float64'),\n",
       "  QuadraticModel({'field_1_5': 1.0}, {}, 0.0, {'field_1_5': 'INTEGER'}, dtype='float64'),\n",
       "  QuadraticModel({'field_1_6': 1.0}, {}, 0.0, {'field_1_6': 'INTEGER'}, dtype='float64'),\n",
       "  QuadraticModel({'field_1_7': 1.0}, {}, 0.0, {'field_1_7': 'INTEGER'}, dtype='float64'),\n",
       "  QuadraticModel({'field_1_8': 1.0}, {}, 0.0, {'field_1_8': 'INTEGER'}, dtype='float64')],\n",
       " [QuadraticModel({'field_2_0': 1.0}, {}, 0.0, {'field_2_0': 'INTEGER'}, dtype='float64'),\n",
       "  QuadraticModel({'field_2_1': 1.0}, {}, 0.0, {'field_2_1': 'INTEGER'}, dtype='float64'),\n",
       "  QuadraticModel({'field_2_2': 1.0}, {}, 0.0, {'field_2_2': 'INTEGER'}, dtype='float64'),\n",
       "  QuadraticModel({'field_2_3': 1.0}, {}, 0.0, {'field_2_3': 'INTEGER'}, dtype='float64'),\n",
       "  QuadraticModel({'field_2_4': 1.0}, {}, 0.0, {'field_2_4': 'INTEGER'}, dtype='float64'),\n",
       "  QuadraticModel({'field_2_5': 1.0}, {}, 0.0, {'field_2_5': 'INTEGER'}, dtype='float64'),\n",
       "  QuadraticModel({'field_2_6': 1.0}, {}, 0.0, {'field_2_6': 'INTEGER'}, dtype='float64'),\n",
       "  QuadraticModel({'field_2_7': 1.0}, {}, 0.0, {'field_2_7': 'INTEGER'}, dtype='float64'),\n",
       "  QuadraticModel({'field_2_8': 1.0}, {}, 0.0, {'field_2_8': 'INTEGER'}, dtype='float64')],\n",
       " [QuadraticModel({'field_3_0': 1.0}, {}, 0.0, {'field_3_0': 'INTEGER'}, dtype='float64'),\n",
       "  QuadraticModel({'field_3_1': 1.0}, {}, 0.0, {'field_3_1': 'INTEGER'}, dtype='float64'),\n",
       "  QuadraticModel({'field_3_2': 1.0}, {}, 0.0, {'field_3_2': 'INTEGER'}, dtype='float64'),\n",
       "  QuadraticModel({'field_3_3': 1.0}, {}, 0.0, {'field_3_3': 'INTEGER'}, dtype='float64'),\n",
       "  QuadraticModel({'field_3_4': 1.0}, {}, 0.0, {'field_3_4': 'INTEGER'}, dtype='float64'),\n",
       "  QuadraticModel({'field_3_5': 1.0}, {}, 0.0, {'field_3_5': 'INTEGER'}, dtype='float64'),\n",
       "  QuadraticModel({'field_3_6': 1.0}, {}, 0.0, {'field_3_6': 'INTEGER'}, dtype='float64'),\n",
       "  QuadraticModel({'field_3_7': 1.0}, {}, 0.0, {'field_3_7': 'INTEGER'}, dtype='float64'),\n",
       "  QuadraticModel({'field_3_8': 1.0}, {}, 0.0, {'field_3_8': 'INTEGER'}, dtype='float64')],\n",
       " [QuadraticModel({'field_4_0': 1.0}, {}, 0.0, {'field_4_0': 'INTEGER'}, dtype='float64'),\n",
       "  QuadraticModel({'field_4_1': 1.0}, {}, 0.0, {'field_4_1': 'INTEGER'}, dtype='float64'),\n",
       "  QuadraticModel({'field_4_2': 1.0}, {}, 0.0, {'field_4_2': 'INTEGER'}, dtype='float64'),\n",
       "  QuadraticModel({'field_4_3': 1.0}, {}, 0.0, {'field_4_3': 'INTEGER'}, dtype='float64'),\n",
       "  QuadraticModel({'field_4_4': 1.0}, {}, 0.0, {'field_4_4': 'INTEGER'}, dtype='float64'),\n",
       "  QuadraticModel({'field_4_5': 1.0}, {}, 0.0, {'field_4_5': 'INTEGER'}, dtype='float64'),\n",
       "  QuadraticModel({'field_4_6': 1.0}, {}, 0.0, {'field_4_6': 'INTEGER'}, dtype='float64'),\n",
       "  QuadraticModel({'field_4_7': 1.0}, {}, 0.0, {'field_4_7': 'INTEGER'}, dtype='float64'),\n",
       "  QuadraticModel({'field_4_8': 1.0}, {}, 0.0, {'field_4_8': 'INTEGER'}, dtype='float64')],\n",
       " [QuadraticModel({'field_5_0': 1.0}, {}, 0.0, {'field_5_0': 'INTEGER'}, dtype='float64'),\n",
       "  QuadraticModel({'field_5_1': 1.0}, {}, 0.0, {'field_5_1': 'INTEGER'}, dtype='float64'),\n",
       "  QuadraticModel({'field_5_2': 1.0}, {}, 0.0, {'field_5_2': 'INTEGER'}, dtype='float64'),\n",
       "  QuadraticModel({'field_5_3': 1.0}, {}, 0.0, {'field_5_3': 'INTEGER'}, dtype='float64'),\n",
       "  QuadraticModel({'field_5_4': 1.0}, {}, 0.0, {'field_5_4': 'INTEGER'}, dtype='float64'),\n",
       "  QuadraticModel({'field_5_5': 1.0}, {}, 0.0, {'field_5_5': 'INTEGER'}, dtype='float64'),\n",
       "  QuadraticModel({'field_5_6': 1.0}, {}, 0.0, {'field_5_6': 'INTEGER'}, dtype='float64'),\n",
       "  QuadraticModel({'field_5_7': 1.0}, {}, 0.0, {'field_5_7': 'INTEGER'}, dtype='float64'),\n",
       "  QuadraticModel({'field_5_8': 1.0}, {}, 0.0, {'field_5_8': 'INTEGER'}, dtype='float64')],\n",
       " [QuadraticModel({'field_6_0': 1.0}, {}, 0.0, {'field_6_0': 'INTEGER'}, dtype='float64'),\n",
       "  QuadraticModel({'field_6_1': 1.0}, {}, 0.0, {'field_6_1': 'INTEGER'}, dtype='float64'),\n",
       "  QuadraticModel({'field_6_2': 1.0}, {}, 0.0, {'field_6_2': 'INTEGER'}, dtype='float64'),\n",
       "  QuadraticModel({'field_6_3': 1.0}, {}, 0.0, {'field_6_3': 'INTEGER'}, dtype='float64'),\n",
       "  QuadraticModel({'field_6_4': 1.0}, {}, 0.0, {'field_6_4': 'INTEGER'}, dtype='float64'),\n",
       "  QuadraticModel({'field_6_5': 1.0}, {}, 0.0, {'field_6_5': 'INTEGER'}, dtype='float64'),\n",
       "  QuadraticModel({'field_6_6': 1.0}, {}, 0.0, {'field_6_6': 'INTEGER'}, dtype='float64'),\n",
       "  QuadraticModel({'field_6_7': 1.0}, {}, 0.0, {'field_6_7': 'INTEGER'}, dtype='float64'),\n",
       "  QuadraticModel({'field_6_8': 1.0}, {}, 0.0, {'field_6_8': 'INTEGER'}, dtype='float64')],\n",
       " [QuadraticModel({'field_7_0': 1.0}, {}, 0.0, {'field_7_0': 'INTEGER'}, dtype='float64'),\n",
       "  QuadraticModel({'field_7_1': 1.0}, {}, 0.0, {'field_7_1': 'INTEGER'}, dtype='float64'),\n",
       "  QuadraticModel({'field_7_2': 1.0}, {}, 0.0, {'field_7_2': 'INTEGER'}, dtype='float64'),\n",
       "  QuadraticModel({'field_7_3': 1.0}, {}, 0.0, {'field_7_3': 'INTEGER'}, dtype='float64'),\n",
       "  QuadraticModel({'field_7_4': 1.0}, {}, 0.0, {'field_7_4': 'INTEGER'}, dtype='float64'),\n",
       "  QuadraticModel({'field_7_5': 1.0}, {}, 0.0, {'field_7_5': 'INTEGER'}, dtype='float64'),\n",
       "  QuadraticModel({'field_7_6': 1.0}, {}, 0.0, {'field_7_6': 'INTEGER'}, dtype='float64'),\n",
       "  QuadraticModel({'field_7_7': 1.0}, {}, 0.0, {'field_7_7': 'INTEGER'}, dtype='float64'),\n",
       "  QuadraticModel({'field_7_8': 1.0}, {}, 0.0, {'field_7_8': 'INTEGER'}, dtype='float64')],\n",
       " [QuadraticModel({'field_8_0': 1.0}, {}, 0.0, {'field_8_0': 'INTEGER'}, dtype='float64'),\n",
       "  QuadraticModel({'field_8_1': 1.0}, {}, 0.0, {'field_8_1': 'INTEGER'}, dtype='float64'),\n",
       "  QuadraticModel({'field_8_2': 1.0}, {}, 0.0, {'field_8_2': 'INTEGER'}, dtype='float64'),\n",
       "  QuadraticModel({'field_8_3': 1.0}, {}, 0.0, {'field_8_3': 'INTEGER'}, dtype='float64'),\n",
       "  QuadraticModel({'field_8_4': 1.0}, {}, 0.0, {'field_8_4': 'INTEGER'}, dtype='float64'),\n",
       "  QuadraticModel({'field_8_5': 1.0}, {}, 0.0, {'field_8_5': 'INTEGER'}, dtype='float64'),\n",
       "  QuadraticModel({'field_8_6': 1.0}, {}, 0.0, {'field_8_6': 'INTEGER'}, dtype='float64'),\n",
       "  QuadraticModel({'field_8_7': 1.0}, {}, 0.0, {'field_8_7': 'INTEGER'}, dtype='float64'),\n",
       "  QuadraticModel({'field_8_8': 1.0}, {}, 0.0, {'field_8_8': 'INTEGER'}, dtype='float64')]]"
      ]
     },
     "execution_count": 130,
     "metadata": {},
     "output_type": "execute_result"
    }
   ],
   "source": [
    "solve_sudoku(response.json()['board'], solver, token, time)"
   ]
  },
  {
   "cell_type": "code",
   "execution_count": 121,
   "metadata": {},
   "outputs": [
    {
     "data": {
      "text/plain": [
       "[[4, 9, 6, 0, 0, 0, 0, 0, 3],\n",
       " [1, 2, 0, 4, 0, 0, 0, 0, 9],\n",
       " [5, 0, 0, 0, 0, 0, 1, 0, 6],\n",
       " [0, 0, 4, 3, 0, 0, 7, 9, 0],\n",
       " [0, 5, 0, 0, 9, 8, 0, 6, 0],\n",
       " [0, 8, 0, 7, 0, 4, 3, 0, 5],\n",
       " [7, 3, 1, 6, 0, 2, 9, 0, 0],\n",
       " [8, 0, 0, 0, 0, 0, 0, 2, 0],\n",
       " [9, 0, 2, 5, 4, 0, 0, 0, 7]]"
      ]
     },
     "execution_count": 121,
     "metadata": {},
     "output_type": "execute_result"
    }
   ],
   "source": [
    "response.json()['board']"
   ]
  },
  {
   "cell_type": "code",
   "execution_count": null,
   "metadata": {},
   "outputs": [],
   "source": []
  }
 ],
 "metadata": {
  "interpreter": {
   "hash": "82170c238004e6f9a5ed2379e71263892c415154f0d0e9cbe0a86bb72a7cd347"
  },
  "kernelspec": {
   "display_name": "Python 3.8.12 ('quantum_001')",
   "language": "python",
   "name": "python3"
  },
  "language_info": {
   "codemirror_mode": {
    "name": "ipython",
    "version": 3
   },
   "file_extension": ".py",
   "mimetype": "text/x-python",
   "name": "python",
   "nbconvert_exporter": "python",
   "pygments_lexer": "ipython3",
   "version": "3.8.12"
  },
  "orig_nbformat": 4
 },
 "nbformat": 4,
 "nbformat_minor": 2
}
