{
 "cells": [
  {
   "cell_type": "code",
   "execution_count": 25,
   "metadata": {},
   "outputs": [],
   "source": [
    "import json\n",
    "\n",
    "from dimod import ExactCQMSolver, ConstrainedQuadraticModel, QuadraticModel, Integer, Binary\n",
    "from dwave.system import LeapHybridCQMSampler\n",
    "\n",
    "\n",
    "with open('tokens.json') as json_file:\n",
    "    token = json.load(json_file)['dwave_token']"
   ]
  },
  {
   "cell_type": "code",
   "execution_count": 35,
   "metadata": {},
   "outputs": [],
   "source": [
    "cqm = ConstrainedQuadraticModel()"
   ]
  },
  {
   "cell_type": "code",
   "execution_count": 15,
   "metadata": {},
   "outputs": [],
   "source": [
    "sampler = LeapHybridCQMSampler(token=token)\n",
    "\n",
    "sampleset = sampler.sample_cqm(cqm).filter(lambda row: row.is_feasible)"
   ]
  },
  {
   "cell_type": "code",
   "execution_count": 16,
   "metadata": {},
   "outputs": [
    {
     "data": {
      "text/plain": [
       "SampleSet(rec.array([([0., 1., 0., 1., 0.], 2., 1,  True, [ True,  True,  True,  True]),\n",
       "           ([0., 1., 0., 1., 0.], 2., 1,  True, [ True,  True,  True,  True]),\n",
       "           ([0., 1., 0., 1., 0.], 2., 1,  True, [ True,  True,  True,  True]),\n",
       "           ([0., 1., 0., 1., 0.], 2., 1,  True, [ True,  True,  True,  True]),\n",
       "           ([0., 1., 0., 1., 0.], 2., 1,  True, [ True,  True,  True,  True]),\n",
       "           ([0., 1., 0., 1., 0.], 2., 1,  True, [ True,  True,  True,  True]),\n",
       "           ([0., 1., 0., 1., 0.], 2., 1,  True, [ True,  True,  True,  True]),\n",
       "           ([0., 1., 0., 1., 0.], 2., 1,  True, [ True,  True,  True,  True]),\n",
       "           ([0., 1., 0., 1., 0.], 2., 1,  True, [ True,  True,  True,  True]),\n",
       "           ([0., 1., 0., 1., 0.], 2., 1,  True, [ True,  True,  True,  True]),\n",
       "           ([0., 1., 0., 1., 0.], 2., 1,  True, [ True,  True,  True,  True]),\n",
       "           ([0., 1., 0., 1., 0.], 2., 1,  True, [ True,  True,  True,  True]),\n",
       "           ([0., 1., 0., 1., 0.], 2., 1,  True, [ True,  True,  True,  True]),\n",
       "           ([0., 1., 0., 1., 0.], 2., 1,  True, [ True,  True,  True,  True]),\n",
       "           ([0., 1., 0., 1., 0.], 2., 1,  True, [ True,  True,  True,  True]),\n",
       "           ([0., 1., 0., 1., 0.], 2., 1,  True, [ True,  True,  True,  True]),\n",
       "           ([0., 1., 0., 1., 0.], 2., 1,  True, [ True,  True,  True,  True]),\n",
       "           ([0., 1., 0., 1., 0.], 2., 1,  True, [ True,  True,  True,  True]),\n",
       "           ([0., 1., 0., 1., 0.], 2., 1,  True, [ True,  True,  True,  True]),\n",
       "           ([0., 1., 0., 1., 0.], 2., 1,  True, [ True,  True,  True,  True]),\n",
       "           ([0., 1., 0., 1., 0.], 2., 1,  True, [ True,  True,  True,  True]),\n",
       "           ([0., 1., 0., 1., 0.], 2., 1,  True, [ True,  True,  True,  True]),\n",
       "           ([0., 1., 0., 1., 0.], 2., 1,  True, [ True,  True,  True,  True]),\n",
       "           ([0., 1., 0., 1., 0.], 2., 1,  True, [ True,  True,  True,  True]),\n",
       "           ([0., 1., 0., 1., 0.], 2., 1,  True, [ True,  True,  True,  True]),\n",
       "           ([0., 1., 0., 1., 0.], 2., 1,  True, [ True,  True,  True,  True]),\n",
       "           ([0., 1., 0., 1., 0.], 2., 1,  True, [ True,  True,  True,  True]),\n",
       "           ([0., 1., 0., 1., 0.], 2., 1,  True, [ True,  True,  True,  True]),\n",
       "           ([0., 1., 0., 1., 0.], 2., 1,  True, [ True,  True,  True,  True]),\n",
       "           ([0., 1., 0., 1., 0.], 2., 1,  True, [ True,  True,  True,  True]),\n",
       "           ([0., 1., 0., 1., 0.], 2., 1,  True, [ True,  True,  True,  True]),\n",
       "           ([0., 1., 0., 1., 0.], 2., 1,  True, [ True,  True,  True,  True]),\n",
       "           ([0., 1., 0., 1., 0.], 2., 1,  True, [ True,  True,  True,  True]),\n",
       "           ([0., 1., 0., 1., 0.], 2., 1,  True, [ True,  True,  True,  True]),\n",
       "           ([0., 1., 0., 1., 0.], 2., 1,  True, [ True,  True,  True,  True])],\n",
       "          dtype=[('sample', '<f8', (5,)), ('energy', '<f8'), ('num_occurrences', '<i4'), ('is_feasible', '?'), ('is_satisfied', '?', (4,))]), Variables(['b1', 'b2', 'b3', 'b4', 'b5']), {'constraint_labels': ['af7f61', 'aa123a', '2c1023', 'c5eb5f'], 'qpu_access_time': 15150, 'charge_time': 5000000, 'run_time': 5120088, 'problem_id': 'e10f7dab-3aad-4112-ae24-98ead8db17ef'}, 'INTEGER')"
      ]
     },
     "execution_count": 16,
     "metadata": {},
     "output_type": "execute_result"
    }
   ],
   "source": [
    "sampleset"
   ]
  },
  {
   "cell_type": "code",
   "execution_count": null,
   "metadata": {},
   "outputs": [],
   "source": []
  }
 ],
 "metadata": {
  "interpreter": {
   "hash": "82170c238004e6f9a5ed2379e71263892c415154f0d0e9cbe0a86bb72a7cd347"
  },
  "kernelspec": {
   "display_name": "Python 3.8.12 ('quantum_001')",
   "language": "python",
   "name": "python3"
  },
  "language_info": {
   "codemirror_mode": {
    "name": "ipython",
    "version": 3
   },
   "file_extension": ".py",
   "mimetype": "text/x-python",
   "name": "python",
   "nbconvert_exporter": "python",
   "pygments_lexer": "ipython3",
   "version": "3.8.12"
  },
  "orig_nbformat": 4
 },
 "nbformat": 4,
 "nbformat_minor": 2
}
